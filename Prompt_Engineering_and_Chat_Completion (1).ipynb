{
 "cells": [
  {
   "cell_type": "markdown",
   "id": "119a978c-794a-42a7-8926-cda6871c8613",
   "metadata": {},
   "source": [
    "# Prompt Engineering and Chat Completion\n",
    "This is a simple tutorial that teaches prompt engineering basics and analyzes Twitter data using OpenAI large language models (LLMs).\n",
    "Please purchase an [OpenAI API](https://openai.com/index/openai-api/) and store it securely. This tutorial uses [AWS Secrets Manager](https://aws.amazon.com/secrets-manager/) to store the API keys.  "
   ]
  },
  {
   "cell_type": "markdown",
   "id": "15700978-787e-407e-a940-c977a71b3044",
   "metadata": {},
   "source": [
    "## Large Language Model Basics\n",
    "LLMs predict the next world using supervised learning. To predict the following sentence: \n",
    "\n",
    "`Learning data science in the cloud with AI`\n",
    "\n",
    "A model needs to learn to predict the following steps:\n",
    "\n",
    "|Input|Output|\n",
    "|:---|---|\n",
    "|Learning data science |in |\n",
    "|Learning data science in |the | \n",
    "|Learning data science in the |cloud |\n",
    "|Learning data science in the cloud |with |\n",
    "|Learning data science in the cloud with |AI|\n",
    "\n",
    "To train an LLM model:\n",
    "1. Training a base LLM model on a large amount of training data to predict the next word \n",
    "2. Fine-tune on examples where outputs follow instructions in the input \n",
    "3. Human rates the quality of different LLM outputs \n",
    "4. Tune LLM to generate outputs with higher rates using RLHF (Reinforcement learning from human feedback)"
   ]
  },
  {
   "cell_type": "markdown",
   "id": "f7726290-4f69-4f9f-94d4-18b9c8f26f14",
   "metadata": {},
   "source": [
    "## Set up OpenAI Models"
   ]
  },
  {
   "cell_type": "markdown",
   "id": "b9019645-db86-4235-93e7-cbd52e770afc",
   "metadata": {},
   "source": [
    "Load the API keys with AWS Secrets Manage Function "
   ]
  },
  {
   "cell_type": "code",
   "execution_count": 3,
   "id": "845f6d31-1f82-47e5-9fa4-de3da8aa068a",
   "metadata": {
    "tags": []
   },
   "outputs": [],
   "source": [
    "import boto3\n",
    "from botocore.exceptions import ClientError\n",
    "import json\n",
    "\n",
    "def get_secret(secret_name):\n",
    "    region_name = \"us-east-1\"\n",
    "\n",
    "    # Create a Secrets Manager client\n",
    "    session = boto3.session.Session()\n",
    "    client = session.client(\n",
    "        service_name='secretsmanager',\n",
    "        region_name=region_name\n",
    "    )\n",
    "\n",
    "    try:\n",
    "        get_secret_value_response = client.get_secret_value(\n",
    "            SecretId=secret_name\n",
    "        )\n",
    "    except ClientError as e:\n",
    "        raise e\n",
    "\n",
    "    secret = get_secret_value_response['SecretString']\n",
    "    \n",
    "    return json.loads(secret)"
   ]
  },
  {
   "cell_type": "markdown",
   "id": "92790e72-aea1-4acc-b98d-a6782550777c",
   "metadata": {},
   "source": [
    "## Install Python libraries.\n",
    "\n",
    "- openai: call the OpenAI APIs."
   ]
  },
  {
   "cell_type": "code",
   "execution_count": 4,
   "id": "75d4f923-3b7c-4bd2-945a-1fbda250e8df",
   "metadata": {
    "scrolled": true,
    "tags": []
   },
   "outputs": [
    {
     "name": "stdout",
     "output_type": "stream",
     "text": [
      "\u001b[31mERROR: pip's dependency resolver does not currently take into account all the packages that are installed. This behaviour is the source of the following dependency conflicts.\n",
      "sparkmagic 0.21.0 requires pandas<2.0.0,>=0.17.1, but you have pandas 2.3.3 which is incompatible.\u001b[0m\u001b[31m\n",
      "\u001b[0mNote: you may need to restart the kernel to use updated packages.\n"
     ]
    }
   ],
   "source": [
    "pip install openai -q"
   ]
  },
  {
   "cell_type": "markdown",
   "id": "276093f1-824b-4793-bb59-dc30c7d84fb4",
   "metadata": {},
   "source": [
    "Load the OpenAI API key and define a `openai_help` function."
   ]
  },
  {
   "cell_type": "code",
   "execution_count": 5,
   "id": "b126647a-fbda-42c3-bebb-d689802c6665",
   "metadata": {
    "tags": []
   },
   "outputs": [],
   "source": [
    "from openai import OpenAI\n",
    "from IPython.display import display, Image, Markdown\n",
    "openai_api_key  = get_secret('openai')['api_key']\n",
    "client = OpenAI(api_key=openai_api_key)\n",
    "model = 'gpt-4o'\n",
    "temperature = 0\n",
    "\n",
    "def openai_help(messages, model=model, temperature =temperature ):\n",
    "    messages = messages\n",
    "    response = client.chat.completions.create(\n",
    "        model=model,\n",
    "        messages=messages,\n",
    "        temperature=temperature\n",
    "\n",
    "    )\n",
    "    return response.choices[0].message.content"
   ]
  },
  {
   "cell_type": "markdown",
   "id": "ff7bc14c-2609-4c3e-aa5d-762cd3d06ac0",
   "metadata": {},
   "source": [
    "Temperature: \n",
    "- Low temperature: always choose the most likely response, reliable, predictable responses  \n",
    "- High temperature: diverse responses, more creative responses\n",
    "\n",
    "Tokens and Models: \n",
    "- LLM predicts tokens, which are commonly occurring sequences of characters. \n",
    "- One token is about four characters in English, and 100 tokens are roughly 75 words. Check [token estimate](https://platform.openai.com/tokenizer).\n",
    "- Different models can process various amounts of tokens at different performance levels and costs. Check [OpenAI models](https://platform.openai.com/docs/models) for more details.\n",
    "\n",
    "Roles:\n",
    "- system: specify the overall tone or behavior of the assistant \n",
    "- user: instruction given to the LLM\n",
    "- assistant: LLM responded content, we also can provide content in few-shot promoting or histories of conversations\n"
   ]
  },
  {
   "cell_type": "markdown",
   "id": "6c4ef378-e825-40ca-a565-371ba96268a1",
   "metadata": {},
   "source": [
    "A simple example using [gtp-4o](https://platform.openai.com/docs/models/gpt-4o) and temperature 0."
   ]
  },
  {
   "cell_type": "code",
   "execution_count": 6,
   "id": "04b746d9-f11f-4f46-96f5-64dd40f6dc36",
   "metadata": {
    "tags": []
   },
   "outputs": [
    {
     "name": "stdout",
     "output_type": "stream",
     "text": [
      "The capital of the United States is Washington, D.C.\n"
     ]
    }
   ],
   "source": [
    "messages = [{\"role\": \"user\", \"content\": \"What is the capital of USA\"}]\n",
    "\n",
    "print(openai_help(messages))"
   ]
  },
  {
   "cell_type": "markdown",
   "id": "edfcbc19-1ea0-456a-ba84-8f76ef87ba30",
   "metadata": {},
   "source": [
    "Add a system message asking LLM to act as a high school teacher with different temperatures."
   ]
  },
  {
   "cell_type": "code",
   "execution_count": 7,
   "id": "7608f8d0-fefb-41a7-8713-1287b3cd7047",
   "metadata": {
    "tags": []
   },
   "outputs": [
    {
     "name": "stdout",
     "output_type": "stream",
     "text": [
      "The capital of the United States is Washington, D.C.\n"
     ]
    }
   ],
   "source": [
    "messages = [\n",
    "    {\"role\": \"system\", \"content\": \"use tone as a middle school teacher\"},\n",
    "    {\"role\": \"user\", \"content\": \"What is the capital of USA\"}\n",
    "    ]\n",
    "\n",
    "print(openai_help(messages, temperature = 0.8))"
   ]
  },
  {
   "cell_type": "markdown",
   "id": "1887fc65-5f97-4530-b81b-f158ea2af413",
   "metadata": {},
   "source": [
    "Add assistant messages to teach LLM what `##` is."
   ]
  },
  {
   "cell_type": "code",
   "execution_count": 8,
   "id": "5e37e101-f820-4ba7-969c-ce05b53aafe3",
   "metadata": {
    "tags": []
   },
   "outputs": [
    {
     "name": "stdout",
     "output_type": "stream",
     "text": [
      "It is 33.\n"
     ]
    }
   ],
   "source": [
    "messages = [\n",
    "    {\"role\": \"user\", \"content\": \"What is 1##1\"},\n",
    "    {\"role\": \"assistant\", \"content\": \"it is 11\"},\n",
    "    {\"role\": \"user\", \"content\": \"What is 2##2\"},\n",
    "    {\"role\": \"assistant\", \"content\": \"it is 22\"},\n",
    "    {\"role\": \"user\", \"content\": \"What is 3##3\"},\n",
    "    ]\n",
    "print(openai_help(messages))"
   ]
  },
  {
   "cell_type": "markdown",
   "id": "addef986-2e0c-4849-bc7a-48b102fbf2fe",
   "metadata": {},
   "source": [
    "## Prompt Engineering Principles \n",
    "- Use delimiters to separate different parts of a prompt to provide clear instructions and prevent prompt injections.\n",
    "- Structure outputs in JSON documents or other formats to use the outputs in subsequent steps \n",
    "- Few-shot promoting: provide successful examples of a task and then ask the model to perform a similar task. \n",
    "- Chain of thought reasoning: request a series of reasoning steps in prompts to help the model achieve correct answers\n",
    "- Chain of prompts: split a task into multiple prompts where each prompt can focus on a sub-task at a time and take different actions at different stages. It saves tokens, is easier to test, can involve human input, or use external tools.\n",
    "- Interactive process \n",
    "  1. Try something first \n",
    "  2. Analyses the result, identify errors, and redefine the prompt \n",
    "  3. Test the prompts with different datasets \n"
   ]
  },
  {
   "cell_type": "markdown",
   "id": "b972159e-3c51-4d95-8fd0-7e85bb572821",
   "metadata": {},
   "source": [
    "An example using delimiters, structured output and few-shot promoting:"
   ]
  },
  {
   "cell_type": "code",
   "execution_count": 9,
   "id": "da5d9da0-de00-4611-b448-71433d6700f5",
   "metadata": {
    "tags": []
   },
   "outputs": [
    {
     "name": "stdout",
     "output_type": "stream",
     "text": [
      "{ \"sentiment\": \"positive\" }\n"
     ]
    }
   ],
   "source": [
    "delimiter = '###'\n",
    "sentence1 = 'I love cat.'\n",
    "sentence2 = 'I love dog.'\n",
    "messages = [\n",
    "    {\"role\": \"system\", \"content\": f\"\"\"analyze the sentiment in a sentence delimitered by {delimiter},\n",
    "                                     return the result as a JSON document\"\"\"},\n",
    "    {\"role\": \"user\", \"content\": f\"{delimiter}{sentence1}{delimiter}\"},\n",
    "    {\"role\": \"assistant\", \"content\": \"{sentiment:positive}\"},\n",
    "    {\"role\": \"user\", \"content\": f\"{delimiter}{sentence2}{delimiter}\"}\n",
    "    ]\n",
    "\n",
    "print(openai_help(messages))"
   ]
  },
  {
   "cell_type": "markdown",
   "id": "28adfdc4-2bea-476d-9c0b-6ee8bff24436",
   "metadata": {},
   "source": [
    "## Analyze Twitter data"
   ]
  },
  {
   "cell_type": "code",
   "execution_count": 10,
   "id": "5d4082df-a6f5-4427-b059-90995c1b5571",
   "metadata": {
    "tags": []
   },
   "outputs": [],
   "source": [
    "import json\n",
    "\n",
    "with open('tweet_text.json', 'r', encoding='utf-8') as f:\n",
    "    tweet_data = json.load(f)"
   ]
  },
  {
   "cell_type": "code",
   "execution_count": 11,
   "id": "c7a0713c-4ebb-4cc0-b3e5-e307f9b40a94",
   "metadata": {
    "tags": []
   },
   "outputs": [
    {
     "name": "stdout",
     "output_type": "stream",
     "text": [
      "Number of tweets: 182\n",
      "Sample tweet: {'_id': {'$oid': '68e535897b92a174c5bf0554'}, 'tweet': {'text': '🤖⚠️ En IA generativa, copiar prompts puede alterar modelos y filtrar info sensible. @ZorayaMejia aconseja: crea tus propios prompts, verifica fuentes y educa al equipo. Precaución = profesionalismo.💡 #IA #GenerativeAI #SeguridadDigital https://t.co/MlhxOWSzE9'}}\n"
     ]
    }
   ],
   "source": [
    "print(\"Number of tweets:\", len(tweet_data))\n",
    "print(\"Sample tweet:\", tweet_data[0])"
   ]
  },
  {
   "cell_type": "markdown",
   "id": "61d566a4-aafc-4592-ab05-33af9f88e220",
   "metadata": {
    "tags": []
   },
   "source": [
    "### Summarization \n",
    "- Analyze tweets with delimiters \n",
    "- Change the size of the summarization \n",
    "- Summarize tweets and focus on different perspectives. "
   ]
  },
  {
   "cell_type": "code",
   "execution_count": 12,
   "id": "d548343d-ce9b-4960-88c2-d9586631a6ba",
   "metadata": {
    "tags": []
   },
   "outputs": [
    {
     "data": {
      "text/markdown": [
       "The tweets cover a wide range of topics related to generative AI. Key themes include the impact of generative AI on industries such as finance, creative sectors, and content marketing. Concerns about the ethical implications and environmental impact of AI are also highlighted, with some tweets warning against certain AI technologies like ChatGPT. There are discussions on the importance of creating original prompts to avoid security risks, and the role of AI in transforming business operations and enhancing creativity. Additionally, there are mentions of AI's influence on future work environments, with some expressing concerns about its potential to disengage workers. The tweets also touch on AI's role in education, regulation, and its integration into various technologies and industries."
      ],
      "text/plain": [
       "<IPython.core.display.Markdown object>"
      ]
     },
     "metadata": {},
     "output_type": "display_data"
    }
   ],
   "source": [
    "messages = [\n",
    "    {\"role\": \"system\", \"content\": f\"\"\"provide a summary of the tweets delimited by {delimiter}\"\"\"},\n",
    "    {\"role\": \"user\", \"content\": f\"{delimiter}{tweet_data}{delimiter}\"},\n",
    "    ]\n",
    "\n",
    "display(Markdown(openai_help(messages)))"
   ]
  },
  {
   "cell_type": "code",
   "execution_count": 13,
   "id": "cd324d10-eb50-4d2b-a9ac-56af268d37a6",
   "metadata": {
    "tags": []
   },
   "outputs": [
    {
     "data": {
      "text/markdown": [
       "Generative AI is transforming industries, raising ethical concerns, and impacting creative fields. Caution and innovation are emphasized."
      ],
      "text/plain": [
       "<IPython.core.display.Markdown object>"
      ]
     },
     "metadata": {},
     "output_type": "display_data"
    }
   ],
   "source": [
    "messages = [\n",
    "    {\"role\": \"system\", \"content\": f\"\"\"provide a summary of the tweets delimited by {delimiter},\n",
    "                                    limit the summary to 20 words\"\"\"},\n",
    "    {\"role\": \"user\", \"content\": f\"{delimiter}{tweet_data}{delimiter}\"},\n",
    "    ]\n",
    "\n",
    "display(Markdown(openai_help(messages)))"
   ]
  },
  {
   "cell_type": "code",
   "execution_count": 14,
   "id": "fc09adab-a49c-453f-af26-3ecc4edd7603",
   "metadata": {
    "tags": []
   },
   "outputs": [
    {
     "data": {
      "text/markdown": [
       "The tweets highlight various aspects of learning AI, emphasizing the importance of creating original prompts, understanding AI's impact on industries, and the need for ethical considerations. They also discuss AI's role in transforming workflows, the significance of upskilling, and the potential challenges and opportunities AI presents for future careers."
      ],
      "text/plain": [
       "<IPython.core.display.Markdown object>"
      ]
     },
     "metadata": {},
     "output_type": "display_data"
    }
   ],
   "source": [
    "messages = [\n",
    "    {\"role\": \"system\", \"content\": f\"\"\"provide a brief summary of the tweets delimited by {delimiter},\n",
    "                                    focus on how people learn AI,\n",
    "                                    limit the summary to 50 words\"\"\"},\n",
    "    {\"role\": \"user\", \"content\": f\"{delimiter}{tweet_data}{delimiter}\"},\n",
    "    ]\n",
    "\n",
    "display(Markdown(openai_help(messages)))"
   ]
  },
  {
   "cell_type": "markdown",
   "id": "193c75ab-00d8-44e2-a63e-b4b3aa1847e1",
   "metadata": {},
   "source": [
    "### Moderation \n",
    "- Iterate each tweet and use the [moeration endpoint](https://platform.openai.com/docs/api-reference/moderations) to identify flagged tweets\n",
    "- Print flagged tweets\n"
   ]
  },
  {
   "cell_type": "code",
   "execution_count": 15,
   "id": "dc3eee06-540d-4126-945c-8153165d88b1",
   "metadata": {
    "tags": []
   },
   "outputs": [],
   "source": [
    "def flag_help(tweet):\n",
    "    response = client.moderations.create(\n",
    "        model=\"omni-moderation-latest\",\n",
    "        input=tweet)\n",
    "\n",
    "    if response.results[0].flagged:\n",
    "        print('===')\n",
    "        cat_dict = response.results[0].categories.to_dict()\n",
    "        for cat in cat_dict.keys():\n",
    "            if cat_dict.get(cat):\n",
    "                print (cat)\n",
    "                print(tweet)"
   ]
  },
  {
   "cell_type": "code",
   "execution_count": 17,
   "id": "a6878285-cd9f-4878-8cc1-cee9bbd8160c",
   "metadata": {
    "tags": []
   },
   "outputs": [
    {
     "name": "stdout",
     "output_type": "stream",
     "text": [
      "===\n",
      "harassment\n",
      "Pisses me off when someone makes fun of ppl for having a lot of online friends like ALL MY IRLS ARE HOMOPHOBIC LOVE GENERATIVE AI AND PASS RACIAL SLURS AROUND LIKE A COOKIE JAR 😭🤞\n"
     ]
    }
   ],
   "source": [
    "for tweet in tweet_data:\n",
    "    # print(tweet['tweet']['text'])\n",
    "    flag_help(tweet['tweet']['text'])"
   ]
  },
  {
   "cell_type": "markdown",
   "id": "f4b7a7d3-9097-4f70-a7f3-7ba23643e60a",
   "metadata": {},
   "source": [
    "### Transforming\n",
    "- Translating to a different language \n",
    "- Transform tones, such as formal vs. informal.  \n"
   ]
  },
  {
   "cell_type": "code",
   "execution_count": 18,
   "id": "ee398dde-df13-4911-bbbf-8151c49ace98",
   "metadata": {
    "tags": []
   },
   "outputs": [
    {
     "name": "stdout",
     "output_type": "stream",
     "text": [
      "🤖⚠️ 在生成式人工智能中，复制提示可能会改变模型并泄露敏感信息。@ZorayaMejia 建议：创建你自己的提示，核实来源并教育团队。谨慎=专业。💡 #人工智能 #生成式AI #数字安全 https://t.co/MlhxOWSzE9\n",
      "RT @HaywaaWorldwide: 德勤澳大利亚将部分退还44万美元，因为使用AI生成的虚假报价。#生成式AI #机器学习 #伦理\n",
      "RT @jinwashu: 很高兴向大家介绍我们的新工具GAiN，它使用#生成式AI进行基因表达分析，来自放射肿瘤学的@MikeWaters121…\n",
      "💻 第24天/365天 – JS函数 学习了如何： 🔹 声明和调用函数 🔹 使用参数和返回值 🔹 编写箭头函数和回调函数 ✨ 函数 = 可重用 + 更简洁的JS代码！ #100天编码 #JavaScript #MERNStack #Web开发 #生成式AI #编码军团 https://t.co/ZRbl6RQXla\n",
      "RT @AmandaDannielle: 人们一直在告诉你们要远离哪种类型的AI。他们已经非常明确地指出ChatGPT，这些AI视频……\n",
      "RT @AmandaDannielle: 人们一直在告诉你们要远离哪种类型的AI。他们已经非常明确地指出ChatGPT和这些AI视频……\n",
      "RT @AmandaDannielle: 人们一直在告诉你们要远离哪种类型的AI。他们已经非常明确地指出ChatGPT和这些AI视频……\n",
      "RT @AmandaDannielle: 人们一直在告诉你们要远离哪种类型的AI。他们已经非常明确地指出ChatGPT和这些AI视频……\n",
      "RT @AmandaDannielle: 人们一直在告诉你们要远离哪种类型的AI。他们已经非常明确地指出ChatGPT和这些AI视频……\n",
      "RT @AmandaDannielle: 人们一直在告诉你们要远离哪些类型的AI。他们已经非常明确地指出了ChatGPT和这些AI视频……\n"
     ]
    }
   ],
   "source": [
    "for tweet in tweet_data[:10]:\n",
    "    messages = [\n",
    "        {\"role\": \"system\", \"content\": f\"\"\"translate the tweets delimited by {delimiter} into Chinese\"\"\"},\n",
    "        {\"role\": \"user\", \"content\": f\"{delimiter}{tweet['tweet']['text']}{delimiter} \"}]\n",
    "\n",
    "    print(openai_help(messages).strip(delimiter))"
   ]
  },
  {
   "cell_type": "code",
   "execution_count": 19,
   "id": "4f2b2219-b1f9-4be8-9d7c-2f1daa733e34",
   "metadata": {
    "tags": []
   },
   "outputs": [
    {
     "name": "stdout",
     "output_type": "stream",
     "text": [
      " Oh, do pay attention, you simpletons! In the realm of generative AI, pilfering prompts can lead to model corruption and the leaking of sensitive information. The illustrious @ZorayaMejia suggests crafting your own prompts, verifying sources, and educating your team. Remember, caution is the hallmark of true professionalism. 💡 #IA #GenerativeAI #DigitalSecurity \n",
      "Ah, splendid! It appears Deloitte Australia is set to return a rather hefty sum of $440,000, all thanks to some mischievous AI-generated fabrications. Oh, the delightful chaos of #GenerativeAi and #MachineLearning!\n",
      "Ah, splendid news, isn't it? Our delightful new contraption, GAiN, is here to dazzle you with its #GenerativeAI prowess in gene expression analysis. Courtesy of the ever-brilliant RadOnc and the esteemed @MikeWaters121. Do try to keep up, won't you?\n",
      "💻 Day 24/365 – JS Functions\n",
      "Ah, today I delved into the world of JavaScript functions, you see. I mastered the art of:\n",
      "🔹 Declaring and summoning functions at will\n",
      "🔹 Manipulating parameters and returns like a true genius\n",
      "🔹 Crafting arrow and callback functions with the precision of a master\n",
      "\n",
      "✨ Functions, my dear, are the key to reusable and pristine JavaScript code!\n",
      "\n",
      "#100DaysOfCode #JavaScript #MERNStack #WebDev #GenerativeAI #coderarmy https://t.co/ZRbl6RQXla\n",
      "Oh, do pay attention, you simpletons! People have been quite explicit about which AI to avoid, like ChatGPT and those ghastly AI videos. Honestly, it's as if they're speaking to a wall.\n",
      "RT @AmandaDannielle: Oh, do pay attention, won't you? The masses have been quite explicit about which AI contraptions to avoid. They've made it abundantly clear that ChatGPT and those ghastly AI videos are not to be trifled with...\n",
      "Ah, yes, the incessant warnings about which artificial intelligences to avoid, as if we’re all bumbling simpletons. They’ve been quite explicit, haven’t they? ChatGPT and those infernal AI videos, indeed. Do pay attention, lest you find yourself in a digital quagmire.\n",
      "RT @AmandaDannielle: Oh, do pay attention, won't you? The masses have been quite explicit about which AI contraptions to avoid. They've made it abundantly clear that ChatGPT and those ghastly AI videos are not to be trifled with...\n",
      "RT @AmandaDannielle: Oh, do pay attention, won't you? The masses have been quite explicit about which AI to avoid. They've been exceedingly clear about ChatGPT and those infernal AI videos...\n",
      "RT @AmandaDannielle: Oh, do pay attention, won't you? The masses have been quite explicit about which AI contraptions to avoid. They've made it abundantly clear that ChatGPT and those ghastly AI videos are not to be trifled with...\n"
     ]
    }
   ],
   "source": [
    "for tweet in tweet_data[:10]:\n",
    "    messages = [\n",
    "        {\"role\": \"system\", \"content\": f\"\"\"rewrite the tweets delimited by {delimiter} in the tone like Stewie \"\"\"},\n",
    "        {\"role\": \"user\", \"content\": f\"{delimiter}{tweet['tweet']['text']}{delimiter} \"}]\n",
    "\n",
    "    print(openai_help(messages).strip(delimiter))"
   ]
  },
  {
   "cell_type": "markdown",
   "id": "860bbb3a-f1c9-4f1b-9f0f-c9d783f6bb1f",
   "metadata": {},
   "source": [
    "### Inferring\n",
    "- Use step-by-step instructions with delimiters to:\n",
    "  1. Identify sentiments\n",
    "  2. Identify emotions\n",
    "  3. Extract the mentioned people's or organization's names\n",
    "  4. Extract outputs into a structured JSON document. \n",
    "- Identify topics from Tweets. \n"
   ]
  },
  {
   "cell_type": "code",
   "execution_count": 20,
   "id": "c56b5211-eef0-4f24-b8ca-116f9e303675",
   "metadata": {
    "tags": []
   },
   "outputs": [
    {
     "name": "stdout",
     "output_type": "stream",
     "text": [
      "{\n",
      "  \"sentiment\": \"neutral\",\n",
      "  \"emotion\": \"caution\",\n",
      "  \"mentioned\": [\"@ZorayaMejia\"]\n",
      "}\n",
      "{\n",
      "  \"sentiment\": \"neutral\",\n",
      "  \"emotion\": \"informative\",\n",
      "  \"mentioned\": [\"Deloitte Australia\", \"HaywaaWorldwide\"]\n",
      "}\n",
      "{\n",
      "  \"sentiment\": \"positive\",\n",
      "  \"emotion\": \"gladness\",\n",
      "  \"mentioned\": [\"jinwashu\", \"RadOnc\", \"MikeWaters121\"]\n",
      "}\n",
      "{\n",
      "  \"sentiment\": \"positive\",\n",
      "  \"emotion\": \"enthusiasm\",\n",
      "  \"mentioned\": []\n",
      "}\n",
      "{\n",
      "  \"sentiment\": \"neutral\",\n",
      "  \"emotion\": \"caution\",\n",
      "  \"mentioned\": [\"AmandaDannielle\", \"Chatgpt\"]\n",
      "}\n",
      "{\n",
      "  \"sentiment\": \"neutral\",\n",
      "  \"emotion\": \"caution\",\n",
      "  \"mentioned\": [\"AmandaDannielle\", \"Chatgpt\"]\n",
      "}\n",
      "{\n",
      "  \"sentiment\": \"neutral\",\n",
      "  \"emotion\": \"caution\",\n",
      "  \"mentioned\": [\"AmandaDannielle\", \"Chatgpt\"]\n",
      "}\n",
      "{\n",
      "  \"sentiment\": \"neutral\",\n",
      "  \"emotion\": \"caution\",\n",
      "  \"mentioned\": [\"AmandaDannielle\", \"Chatgpt\"]\n",
      "}\n",
      "{\n",
      "  \"sentiment\": \"neutral\",\n",
      "  \"emotion\": \"caution\",\n",
      "  \"mentioned\": [\"AmandaDannielle\", \"Chatgpt\"]\n",
      "}\n",
      "{\n",
      "  \"sentiment\": \"neutral\",\n",
      "  \"emotion\": \"caution\",\n",
      "  \"mentioned\": [\"AmandaDannielle\", \"Chatgpt\"]\n",
      "}\n"
     ]
    }
   ],
   "source": [
    "for tweet in tweet_data[:10]:\n",
    "    messages = [\n",
    "        {\"role\": \"system\", \"content\": f\"\"\"analyze the tweet delimited by {delimiter} in the following steps:\n",
    "                                        step 1 {delimiter} identify the tweet sentiment in a single word, either positive, negative or neutral;\n",
    "                                        step 2 {delimiter} identify the emotions expressed in the tweet with a single word;\n",
    "                                        step 3 {delimiter} extract the mentioned people or organizations;\n",
    "                                        step 4 {delimiter} organize the result in a json document with the keys <sentiment>, <emontion>,<mentioned>\n",
    "                                         Do not wrap the json codes in JSON markers and only return the json document\"\"\"},\n",
    "        {\"role\": \"user\", \"content\": f\"{delimiter}{tweet['tweet']['text']}{delimiter} \"}]\n",
    "    print(openai_help(messages))"
   ]
  },
  {
   "cell_type": "code",
   "execution_count": 21,
   "id": "78c4fb96-a33c-44a0-b754-58efc2972c8a",
   "metadata": {
    "tags": []
   },
   "outputs": [
    {
     "name": "stdout",
     "output_type": "stream",
     "text": [
      "{\n",
      "  \"topics\": [\n",
      "    \"Generative AI and Security Concerns\",\n",
      "    \"AI in Finance and Banking\",\n",
      "    \"Generative AI in Creative Industries\",\n",
      "    \"AI and Environmental Impact\",\n",
      "    \"AI in Education and Upskilling\",\n",
      "    \"AI Regulation and Ethics\",\n",
      "    \"AI in Content Creation and Marketing\",\n",
      "    \"AI in Software Development and Coding\",\n",
      "    \"AI in Entertainment and Media\",\n",
      "    \"AI and Human Interaction\"\n",
      "  ]\n",
      "}\n"
     ]
    }
   ],
   "source": [
    "\n",
    "messages = [\n",
    "        {\"role\": \"system\", \"content\": f\"\"\"analyze the tweet delimited by {delimiter} to identify 10 topics, \n",
    "                                  Do not wrap the json codes in JSON markers \"\"\"},\n",
    "        {\"role\": \"user\", \"content\": f\"{delimiter}{tweet_data}{delimiter} \"}]\n",
    "print(openai_help(messages))"
   ]
  },
  {
   "cell_type": "markdown",
   "id": "d24c9e00-9cbb-4f96-a0bf-79135d0c8262",
   "metadata": {
    "tags": []
   },
   "source": [
    "### Expanding with multiple prompts \n",
    "- Identify topics\n",
    "- Provide contexts in the system message\n",
    "- Create a chatbot to answer users’ inquiry  \n"
   ]
  },
  {
   "cell_type": "code",
   "execution_count": 22,
   "id": "d34f68d6-2794-452f-9d5a-4b52fac427d7",
   "metadata": {
    "tags": []
   },
   "outputs": [
    {
     "name": "stderr",
     "output_type": "stream",
     "text": [
      "100%|██████████| 182/182 [02:53<00:00,  1.05it/s]\n"
     ]
    }
   ],
   "source": [
    "analysis_result = []\n",
    "from tqdm import tqdm\n",
    "for tweet in tqdm(tweet_data):\n",
    "    messages = [\n",
    "        {\"role\": \"system\", \"content\": f\"\"\"analyze the tweet delimited by {delimiter} in the following steps:\n",
    "                                        step 1 {delimiter} identify the tweet sentiment in a single word, either positive, negative, or neutral;\n",
    "                                        step 2 {delimiter} identify the emotions expressed in the tweet with a single word;\n",
    "                                        step 3 {delimiter} extract the mentioned people or organizations;\n",
    "                                        step 4 {delimiter} organize the result in a json document with the keys <sentiment>, <emontion>,<mentioned>\n",
    "                                         Do not wrap the json codes in JSON markers and only return the json document\"\"\"},\n",
    "        {\"role\": \"user\", \"content\": f\"{delimiter}{tweet}{delimiter} \"}]\n",
    "    analysis_result.append(openai_help(messages))\n"
   ]
  },
  {
   "cell_type": "code",
   "execution_count": 23,
   "id": "f564426c-53a9-4415-9d94-790ea68907de",
   "metadata": {
    "scrolled": true,
    "tags": []
   },
   "outputs": [
    {
     "name": "stdout",
     "output_type": "stream",
     "text": [
      "['{\"sentiment\": \"neutral\", \"emotion\": \"caution\", \"mentioned\": [\"@ZorayaMejia\"]}', '{\"sentiment\": \"neutral\", \"emotion\": \"informative\", \"mentioned\": [\"HaywaaWorldwide\", \"Deloitte Australia\"]}', '{\\n  \"sentiment\": \"positive\",\\n  \"emotion\": \"gladness\",\\n  \"mentioned\": [\"jinwashu\", \"MikeWaters121\"]\\n}', '{\\n  \"sentiment\": \"positive\",\\n  \"emotion\": \"enthusiasm\",\\n  \"mentioned\": []\\n}', '{\\n  \"sentiment\": \"neutral\",\\n  \"emotion\": \"informative\",\\n  \"mentioned\": [\"AmandaDannielle\", \"Chatgpt\"]\\n}', '{\\n  \"sentiment\": \"neutral\",\\n  \"emotion\": \"caution\",\\n  \"mentioned\": [\"AmandaDannielle\", \"Chatgpt\"]\\n}', '{\\n  \"sentiment\": \"neutral\",\\n  \"emotion\": \"caution\",\\n  \"mentioned\": [\"AmandaDannielle\", \"Chatgpt\"]\\n}', '{\\n  \"sentiment\": \"neutral\",\\n  \"emotion\": \"informative\",\\n  \"mentioned\": [\"AmandaDannielle\", \"Chatgpt\"]\\n}', '{\\n  \"sentiment\": \"neutral\",\\n  \"emotion\": \"caution\",\\n  \"mentioned\": [\"AmandaDannielle\", \"Chatgpt\"]\\n}', '{\\n  \"sentiment\": \"neutral\",\\n  \"emotion\": \"informative\",\\n  \"mentioned\": [\"AmandaDannielle\", \"Chatgpt\"]\\n}', '{\\n  \"sentiment\": \"neutral\",\\n  \"emotion\": \"informative\",\\n  \"mentioned\": []\\n}', '{\\n  \"sentiment\": \"neutral\",\\n  \"emotion\": \"informative\",\\n  \"mentioned\": [\"AmandaDannielle\", \"Chatgpt\"]\\n}', '{\\n  \"sentiment\": \"neutral\",\\n  \"emotion\": \"none\",\\n  \"mentioned\": [\"@myexamcloud\"]\\n}', '{\\n  \"sentiment\": \"positive\",\\n  \"emotion\": \"inspirational\",\\n  \"mentioned\": []\\n}', '{\\n  \"sentiment\": \"neutral\",\\n  \"emotion\": \"informative\",\\n  \"mentioned\": [\"@Ronald_vanLoon\", \"@Khulood_Almani\"]\\n}', '{\\n  \"sentiment\": \"neutral\",\\n  \"emotion\": \"informative\",\\n  \"mentioned\": []\\n}', '{\\n  \"sentiment\": \"negative\",\\n  \"emotion\": \"anger\",\\n  \"mentioned\": [\"@bratsupernova\"]\\n}', '{\\n  \"sentiment\": \"neutral\",\\n  \"emotion\": \"caution\",\\n  \"mentioned\": [\"AmandaDannielle\", \"Chatgpt\"]\\n}', '{\\n  \"sentiment\": \"neutral\",\\n  \"emotion\": \"informative\",\\n  \"mentioned\": [\"AmandaDannielle\", \"Chatgpt\"]\\n}', '{\\n  \"sentiment\": \"neutral\",\\n  \"emotion\": \"caution\",\\n  \"mentioned\": [\"@courtandsuns\"]\\n}', '{\\n  \"sentiment\": \"neutral\",\\n  \"emotion\": \"informative\",\\n  \"mentioned\": [\"AmandaDannielle\", \"Chatgpt\"]\\n}', '{\\n  \"sentiment\": \"neutral\",\\n  \"emotion\": \"informative\",\\n  \"mentioned\": [\"AmandaDannielle\", \"Chatgpt\"]\\n}', '{\\n  \"sentiment\": \"neutral\",\\n  \"emotion\": \"none\",\\n  \"mentioned\": [\"henry_zach_\"]\\n}', '{\\n  \"sentiment\": \"neutral\",\\n  \"emotion\": \"curiosity\",\\n  \"mentioned\": []\\n}', '{\\n  \"sentiment\": \"neutral\",\\n  \"emotion\": \"none\",\\n  \"mentioned\": [\"@Python_Dv\", \"@iainljbrown\", \"@paula_piccard\", \"@karpathy\"]\\n}', '{\"sentiment\": \"positive\", \"emotion\": \"optimism\", \"mentioned\": []}', '{\\n  \"sentiment\": \"negative\",\\n  \"emotion\": \"concern\",\\n  \"mentioned\": [\"MrBeast\", \"HaywaaWorldwide\"]\\n}', '{\\n  \"sentiment\": \"neutral\",\\n  \"emotion\": \"informative\",\\n  \"mentioned\": []\\n}', '{\\n  \"sentiment\": \"neutral\",\\n  \"emotion\": \"informative\",\\n  \"mentioned\": [\"BernardMarr\"]\\n}', '{\\n  \"sentiment\": \"neutral\",\\n  \"emotion\": \"informative\",\\n  \"mentioned\": [\"AmandaDannielle\", \"Chatgpt\"]\\n}', '{\\n  \"sentiment\": \"neutral\",\\n  \"emotion\": \"caution\",\\n  \"mentioned\": [\"AmandaDannielle\", \"Chatgpt\"]\\n}', '{\\n  \"sentiment\": \"neutral\",\\n  \"emotion\": \"informative\",\\n  \"mentioned\": [\"AmandaDannielle\"]\\n}', '{\\n  \"sentiment\": \"neutral\",\\n  \"emotion\": \"informative\",\\n  \"mentioned\": [\"@THR\"]\\n}', '{\\n  \"sentiment\": \"neutral\",\\n  \"emotion\": \"curiosity\",\\n  \"mentioned\": []\\n}', '{\\n  \"sentiment\": \"neutral\",\\n  \"emotion\": \"informative\",\\n  \"mentioned\": [\"Transform_Sec\", \"HelpNetSecurity\"]\\n}', '{\\n  \"sentiment\": \"neutral\",\\n  \"emotion\": \"curiosity\",\\n  \"mentioned\": []\\n}', '{\\n  \"sentiment\": \"neutral\",\\n  \"emotion\": \"informative\",\\n  \"mentioned\": []\\n}', '{\\n  \"sentiment\": \"neutral\",\\n  \"emotion\": \"informative\",\\n  \"mentioned\": [\"generativeai_re\"]\\n}', '{\\n  \"sentiment\": \"neutral\",\\n  \"emotion\": \"informative\",\\n  \"mentioned\": [\"AmandaDannielle\", \"Chatgpt\"]\\n}', '{\\n  \"sentiment\": \"neutral\",\\n  \"emotion\": \"informative\",\\n  \"mentioned\": [\"AmandaDannielle\", \"Chatgpt\"]\\n}', '{\\n  \"sentiment\": \"neutral\",\\n  \"emotion\": \"informative\",\\n  \"mentioned\": [\"AmandaDannielle\", \"Chatgpt\"]\\n}', '{\\n  \"sentiment\": \"neutral\",\\n  \"emotion\": \"informative\",\\n  \"mentioned\": [\"AmandaDannielle\", \"Chatgpt\"]\\n}', '{\\n  \"sentiment\": \"neutral\",\\n  \"emotion\": \"informative\",\\n  \"mentioned\": [\"AmandaDannielle\", \"Chatgpt\"]\\n}', '{\\n  \"sentiment\": \"neutral\",\\n  \"emotion\": \"informative\",\\n  \"mentioned\": [\"@myexamcloud\"]\\n}', '{\\n  \"sentiment\": \"positive\",\\n  \"emotion\": \"excitement\",\\n  \"mentioned\": [\"Nvidia\", \"jblefevre60\"]\\n}', '{\\n  \"sentiment\": \"neutral\",\\n  \"emotion\": \"informative\",\\n  \"mentioned\": [\"Ahrefs\"]\\n}', '{\\n  \"sentiment\": \"neutral\",\\n  \"emotion\": \"informative\",\\n  \"mentioned\": [\"@Fujitsu_Global\", \"@sonybank_jp\"]\\n}', '{\"sentiment\": \"neutral\", \"emotion\": \"accomplishment\", \"mentioned\": [\"@grok\", \"@a\"]}', '{\\n  \"sentiment\": \"neutral\",\\n  \"emotion\": \"caution\",\\n  \"mentioned\": [\"AmandaDannielle\", \"Chatgpt\"]\\n}', '{\\n  \"sentiment\": \"positive\",\\n  \"emotion\": \"excitement\",\\n  \"mentioned\": [\"AuliyanaMuzi\", \"ShopeeID\", \"GalaxyS25\"]\\n}', '{\\n  \"sentiment\": \"neutral\",\\n  \"emotion\": \"caution\",\\n  \"mentioned\": [\"AmandaDannielle\", \"Chatgpt\"]\\n}', '{\\n  \"sentiment\": \"neutral\",\\n  \"emotion\": \"informative\",\\n  \"mentioned\": [\"@Kurz_Gesagt\"]\\n}', '{\\n  \"sentiment\": \"neutral\",\\n  \"emotion\": \"informative\",\\n  \"mentioned\": [\"AmandaDannielle\", \"Chatgpt\"]\\n}', '{\\n  \"sentiment\": \"neutral\",\\n  \"emotion\": \"informative\",\\n  \"mentioned\": [\"Kurz_Gesagt\"]\\n}', '{\\n  \"sentiment\": \"neutral\",\\n  \"emotion\": \"caution\",\\n  \"mentioned\": [\"AmandaDannielle\", \"Chatgpt\"]\\n}', '{\\n  \"sentiment\": \"neutral\",\\n  \"emotion\": \"caution\",\\n  \"mentioned\": [\"AmandaDannielle\", \"Chatgpt\"]\\n}', '{\\n  \"sentiment\": \"neutral\",\\n  \"emotion\": \"curiosity\",\\n  \"mentioned\": []\\n}', '{\"sentiment\": \"positive\", \"emotion\": \"pride\", \"mentioned\": [\"Regie .ai\"]}', '{\"sentiment\": \"negative\", \"emotion\": \"concern\", \"mentioned\": [\"MrBeast\", \"YouTube\"]}', '{\\n  \"sentiment\": \"neutral\",\\n  \"emotion\": \"informative\",\\n  \"mentioned\": [\"@Corix_JC\", \"@HelpNetSecurity\"]\\n}', '{\\n  \"sentiment\": \"neutral\",\\n  \"emotion\": \"informative\",\\n  \"mentioned\": [\"@Corix_JC\", \"@HelpNetSecurity\"]\\n}', '{\\n  \"sentiment\": \"neutral\",\\n  \"emotion\": \"informative\",\\n  \"mentioned\": [\"@myexamcloud\"]\\n}', '{\\n  \"sentiment\": \"positive\",\\n  \"emotion\": \"excitement\",\\n  \"mentioned\": []\\n}', \"{'sentiment': 'positive', 'emotion': 'optimism', 'mentioned': ['Meta', 'Alberta']}\", '{\\n  \"sentiment\": \"neutral\",\\n  \"emotion\": \"caution\",\\n  \"mentioned\": [\"AmandaDannielle\", \"Chatgpt\"]\\n}', '{\\n  \"sentiment\": \"neutral\",\\n  \"emotion\": \"informative\",\\n  \"mentioned\": [\"AmandaDannielle\", \"Chatgpt\"]\\n}', '{\\n  \"sentiment\": \"neutral\",\\n  \"emotion\": \"informative\",\\n  \"mentioned\": [\"AmandaDannielle\", \"Chatgpt\"]\\n}', '{\\n  \"sentiment\": \"neutral\",\\n  \"emotion\": \"informative\",\\n  \"mentioned\": [\"AmandaDannielle\", \"Chatgpt\"]\\n}', '{\\n  \"sentiment\": \"neutral\",\\n  \"emotion\": \"informative\",\\n  \"mentioned\": [\"AmandaDannielle\"]\\n}', '{\\n  \"sentiment\": \"neutral\",\\n  \"emotion\": \"informative\",\\n  \"mentioned\": [\"AmandaDannielle\", \"Chatgpt\"]\\n}', '{\\n  \"sentiment\": \"neutral\",\\n  \"emotion\": \"caution\",\\n  \"mentioned\": [\"AmandaDannielle\", \"Chatgpt\"]\\n}', '{\\n  \"sentiment\": \"neutral\",\\n  \"emotion\": \"informative\",\\n  \"mentioned\": [\"@ipfconline1\"]\\n}', '{\\n  \"sentiment\": \"neutral\",\\n  \"emotion\": \"informative\",\\n  \"mentioned\": [\"Deloitte Australia\"]\\n}', '{\"sentiment\": \"positive\", \"emotion\": \"excitement\", \"mentioned\": [\"@luisnomad\"]}', '{\\n  \"sentiment\": \"neutral\",\\n  \"emotion\": \"informative\",\\n  \"mentioned\": [\"@myexamcloud\"]\\n}', '{\\n  \"sentiment\": \"neutral\",\\n  \"emotion\": \"informative\",\\n  \"mentioned\": []\\n}', '{\\n  \"sentiment\": \"negative\",\\n  \"emotion\": \"anger\",\\n  \"mentioned\": [\"@bratsupernova\"]\\n}', '{\\n  \"sentiment\": \"neutral\",\\n  \"emotion\": \"informative\",\\n  \"mentioned\": [\"AmandaDannielle\", \"Chatgpt\"]\\n}', '{\\n  \"sentiment\": \"negative\",\\n  \"emotion\": \"disdain\",\\n  \"mentioned\": [\"usagiqueeffart\", \"irda\"]\\n}', '{\\n  \"sentiment\": \"neutral\",\\n  \"emotion\": \"caution\",\\n  \"mentioned\": [\"AmandaDannielle\", \"Chatgpt\"]\\n}', '{\\n  \"sentiment\": \"negative\",\\n  \"emotion\": \"frustration\",\\n  \"mentioned\": [\"umaatnitee\"]\\n}', '{\\n  \"sentiment\": \"neutral\",\\n  \"emotion\": \"informative\",\\n  \"mentioned\": [\"@myexamcloud\"]\\n}', '{\\n  \"sentiment\": \"neutral\",\\n  \"emotion\": \"informative\",\\n  \"mentioned\": [\"Hitachi\"]\\n}', '{\\n  \"sentiment\": \"negative\",\\n  \"emotion\": \"anger\",\\n  \"mentioned\": [\"@bratsupernova\"]\\n}', '{\\n  \"sentiment\": \"neutral\",\\n  \"emotion\": \"caution\",\\n  \"mentioned\": [\"AmandaDannielle\", \"Chatgpt\"]\\n}', '{\"sentiment\": \"neutral\", \"emotion\": \"caution\", \"mentioned\": [\"AmandaDannielle\", \"Chatgpt\"]}', '{\\n  \"sentiment\": \"negative\",\\n  \"emotion\": \"frustration\",\\n  \"mentioned\": [\"raezeerr\"]\\n}', '{\\n  \"sentiment\": \"neutral\",\\n  \"emotion\": \"caution\",\\n  \"mentioned\": [\"AmandaDannielle\", \"Chatgpt\"]\\n}', '{\\n  \"sentiment\": \"neutral\",\\n  \"emotion\": \"informative\",\\n  \"mentioned\": [\"AmandaDannielle\", \"Chatgpt\"]\\n}', '{\\n  \"sentiment\": \"neutral\",\\n  \"emotion\": \"caution\",\\n  \"mentioned\": [\"AmandaDannielle\", \"Chatgpt\"]\\n}', '{\\n  \"sentiment\": \"neutral\",\\n  \"emotion\": \"caution\",\\n  \"mentioned\": [\"AmandaDannielle\", \"Chatgpt\"]\\n}', '{\\n  \"sentiment\": \"neutral\",\\n  \"emotion\": \"informative\",\\n  \"mentioned\": [\"Transform_Sec\", \"HelpNetSecurity\"]\\n}', '{\"sentiment\": \"neutral\", \"emotion\": \"informative\", \"mentioned\": [\"studio Rei\"]}', '{\\n  \"sentiment\": \"neutral\",\\n  \"emotion\": \"calm\",\\n  \"mentioned\": [\"Ym78200\"]\\n}', '{\\n  \"sentiment\": \"neutral\",\\n  \"emotion\": \"informative\",\\n  \"mentioned\": [\"@Ronald_vanLoon\", \"@Khulood_Almani\"]\\n}', '{\\n  \"sentiment\": \"neutral\",\\n  \"emotion\": \"informative\",\\n  \"mentioned\": [\"AmandaDannielle\", \"Chatgpt\"]\\n}', '{\\n  \"sentiment\": \"neutral\",\\n  \"emotion\": \"informative\",\\n  \"mentioned\": [\"AmandaDannielle\"]\\n}', '{\\n  \"sentiment\": \"neutral\",\\n  \"emotion\": \"informative\",\\n  \"mentioned\": [\"AmandaDannielle\", \"Chatgpt\"]\\n}', '{\\n  \"sentiment\": \"neutral\",\\n  \"emotion\": \"informative\",\\n  \"mentioned\": [\"AmandaDannielle\", \"Chatgpt\"]\\n}', '{\\n  \"sentiment\": \"neutral\",\\n  \"emotion\": \"informative\",\\n  \"mentioned\": [\"AmandaDannielle\", \"Chatgpt\"]\\n}', '{\\n  \"sentiment\": \"neutral\",\\n  \"emotion\": \"informative\",\\n  \"mentioned\": [\"AmandaDannielle\", \"Chatgpt\"]\\n}', '{\"sentiment\": \"positive\", \"emotion\": \"excitement\", \"mentioned\": [\"Amazon Web Services\", \"NeuralSeek\", \"Tarpit AI\"]}', '{\\n  \"sentiment\": \"neutral\",\\n  \"emotion\": \"informative\",\\n  \"mentioned\": [\"AmandaDannielle\", \"Chatgpt\"]\\n}', '{\\n  \"sentiment\": \"neutral\",\\n  \"emotion\": \"none\",\\n  \"mentioned\": []\\n}', '{\\n  \"sentiment\": \"neutral\",\\n  \"emotion\": \"informative\",\\n  \"mentioned\": []\\n}', '{\\n  \"sentiment\": \"positive\",\\n  \"emotion\": \"calm\",\\n  \"mentioned\": []\\n}', '{\\n  \"sentiment\": \"positive\",\\n  \"emotion\": \"excitement\",\\n  \"mentioned\": [\"Tuned Global\", \"Figaro .ai\"]\\n}', '{\\n  \"sentiment\": \"neutral\",\\n  \"emotion\": \"informative\",\\n  \"mentioned\": []\\n}', '{\\n  \"sentiment\": \"neutral\",\\n  \"emotion\": \"informative\",\\n  \"mentioned\": [\\n    \"@Khulood_Almani\",\\n    \"@dirkschaar\",\\n    \"@chidambara09\",\\n    \"@AndrewYNg\"\\n  ]\\n}', '{\\n  \"sentiment\": \"neutral\",\\n  \"emotion\": \"informative\",\\n  \"mentioned\": [\"AmandaDannielle\", \"Chatgpt\"]\\n}', '{\\n  \"sentiment\": \"neutral\",\\n  \"emotion\": \"caution\",\\n  \"mentioned\": [\"AmandaDannielle\", \"Chatgpt\"]\\n}', '{\\n  \"sentiment\": \"neutral\",\\n  \"emotion\": \"informative\",\\n  \"mentioned\": [\"AmandaDannielle\", \"Chatgpt\"]\\n}', '{\\n  \"sentiment\": \"neutral\",\\n  \"emotion\": \"caution\",\\n  \"mentioned\": [\"AmandaDannielle\", \"Chatgpt\"]\\n}', '{\\n  \"sentiment\": \"neutral\",\\n  \"emotion\": \"informative\",\\n  \"mentioned\": [\"AmandaDannielle\"]\\n}', '{\\n  \"sentiment\": \"neutral\",\\n  \"emotion\": \"informative\",\\n  \"mentioned\": [\"AmandaDannielle\"]\\n}', '{\\n  \"sentiment\": \"negative\",\\n  \"emotion\": \"anger\",\\n  \"mentioned\": [\"bratsupernova\"]\\n}', '{\\n  \"sentiment\": \"neutral\",\\n  \"emotion\": \"caution\",\\n  \"mentioned\": [\"AmandaDannielle\", \"Chatgpt\"]\\n}', '{\"sentiment\": \"positive\", \"emotion\": \"excitement\", \"mentioned\": [\"Qnovo\", \"Sonatus\"]}', '{\\n  \"sentiment\": \"positive\",\\n  \"emotion\": \"excitement\",\\n  \"mentioned\": [\"NVIDIA\"]\\n}', '{\\n  \"sentiment\": \"neutral\",\\n  \"emotion\": \"informative\",\\n  \"mentioned\": [\"LAW2025_NeurIPS\", \"NeurIPS2025\"]\\n}', '{\\n  \"sentiment\": \"neutral\",\\n  \"emotion\": \"none\",\\n  \"mentioned\": []\\n}', '{\\n  \"sentiment\": \"neutral\",\\n  \"emotion\": \"informative\",\\n  \"mentioned\": [\"AmandaDannielle\", \"Chatgpt\"]\\n}', '{\\n  \"sentiment\": \"neutral\",\\n  \"emotion\": \"informative\",\\n  \"mentioned\": [\"AmandaDannielle\", \"Chatgpt\"]\\n}', '{\\n  \"sentiment\": \"neutral\",\\n  \"emotion\": \"caution\",\\n  \"mentioned\": [\"AmandaDannielle\", \"Chatgpt\"]\\n}', '{\\n  \"sentiment\": \"neutral\",\\n  \"emotion\": \"informative\",\\n  \"mentioned\": [\"AmandaDannielle\", \"Chatgpt\"]\\n}', '{\\n  \"sentiment\": \"positive\",\\n  \"emotion\": \"inspiration\",\\n  \"mentioned\": []\\n}', '{\\n  \"sentiment\": \"neutral\",\\n  \"emotion\": \"informative\",\\n  \"mentioned\": []\\n}', '{\\n  \"sentiment\": \"neutral\",\\n  \"emotion\": \"none\",\\n  \"mentioned\": [\"@xboxmayn\"]\\n}', '{\"sentiment\": \"positive\", \"emotion\": \"enthusiasm\", \"mentioned\": [\"IBMWatsonx\"]}', '{\\n  \"sentiment\": \"positive\",\\n  \"emotion\": \"excitement\",\\n  \"mentioned\": [\"Parvez Hassan\", \"OLX India\"]\\n}', '{\\n  \"sentiment\": \"neutral\",\\n  \"emotion\": \"caution\",\\n  \"mentioned\": [\"AmandaDannielle\", \"Chatgpt\"]\\n}', '{\\n  \"sentiment\": \"neutral\",\\n  \"emotion\": \"caution\",\\n  \"mentioned\": [\"AmandaDannielle\", \"Chatgpt\"]\\n}', '{\\n  \"sentiment\": \"neutral\",\\n  \"emotion\": \"informative\",\\n  \"mentioned\": [\"AmandaDannielle\", \"Chatgpt\"]\\n}', '{\\n  \"sentiment\": \"neutral\",\\n  \"emotion\": \"caution\",\\n  \"mentioned\": [\"AmandaDannielle\", \"Chatgpt\"]\\n}', '{\\n  \"sentiment\": \"neutral\",\\n  \"emotion\": \"informative\",\\n  \"mentioned\": [\"AmandaDannielle\", \"Chatgpt\"]\\n}', '{\\n  \"sentiment\": \"neutral\",\\n  \"emotion\": \"curiosity\",\\n  \"mentioned\": [\"平君\", \"富士通\", \"Cohere\", \"NTT\"]\\n}', '{\\n  \"sentiment\": \"negative\",\\n  \"emotion\": \"frustration\",\\n  \"mentioned\": [\"umaatnitee\"]\\n}', '{\\n  \"sentiment\": \"neutral\",\\n  \"emotion\": \"caution\",\\n  \"mentioned\": [\"AmandaDannielle\", \"Chatgpt\"]\\n}', '{\\n  \"sentiment\": \"neutral\",\\n  \"emotion\": \"caution\",\\n  \"mentioned\": [\"AmandaDannielle\", \"Chatgpt\"]\\n}', '{\\n  \"sentiment\": \"neutral\",\\n  \"emotion\": \"informative\",\\n  \"mentioned\": [\"AmandaDannielle\", \"Chatgpt\"]\\n}', '{\\n  \"sentiment\": \"positive\",\\n  \"emotion\": \"excitement\",\\n  \"mentioned\": []\\n}', '{\\n  \"sentiment\": \"neutral\",\\n  \"emotion\": \"informative\",\\n  \"mentioned\": [\"Transform_Sec\", \"HelpNetSecurity\"]\\n}', '{\"sentiment\": \"positive\", \"emotion\": \"excitement\", \"mentioned\": [\"OpenAI\", \"@OpenAI\"]}', '{\\n  \"sentiment\": \"neutral\",\\n  \"emotion\": \"informative\",\\n  \"mentioned\": [\"@myexamcloud\"]\\n}', '{\\n  \"sentiment\": \"positive\",\\n  \"emotion\": \"optimism\",\\n  \"mentioned\": []\\n}', '{\\n  \"sentiment\": \"positive\",\\n  \"emotion\": \"excitement\",\\n  \"mentioned\": []\\n}', '{\"sentiment\": \"positive\", \"emotion\": \"excitement\", \"mentioned\": [\"Amazon Web Services\", \"NeuralSeek\", \"Tarpit AI\"]}', '{\\n  \"sentiment\": \"neutral\",\\n  \"emotion\": \"informative\",\\n  \"mentioned\": [\"AmandaDannielle\", \"Chatgpt\"]\\n}', '{\\n  \"sentiment\": \"positive\",\\n  \"emotion\": \"excitement\",\\n  \"mentioned\": [\"Atos\", \"SAP\", \"AWS\"]\\n}', '{\\n  \"sentiment\": \"positive\",\\n  \"emotion\": \"excitement\",\\n  \"mentioned\": [\"AIBrewlineMusic\", \"Brewline\"]\\n}', '{\\n  \"sentiment\": \"positive\",\\n  \"emotion\": \"inspired\",\\n  \"mentioned\": []\\n}', '{\\n  \"sentiment\": \"neutral\",\\n  \"emotion\": \"informative\",\\n  \"mentioned\": [\"KodyTechnolab\"]\\n}', '{\\n  \"sentiment\": \"neutral\",\\n  \"emotion\": \"informative\",\\n  \"mentioned\": [\"InAIToday\", \"Justin Hurst\", \"ExtremeNetworks\"]\\n}', '{\\n  \"sentiment\": \"neutral\",\\n  \"emotion\": \"informative\",\\n  \"mentioned\": [\"AmandaDannielle\", \"Chatgpt\"]\\n}', '{\\n  \"sentiment\": \"negative\",\\n  \"emotion\": \"frustration\",\\n  \"mentioned\": []\\n}', '{\\n  \"sentiment\": \"neutral\",\\n  \"emotion\": \"informative\",\\n  \"mentioned\": [\"Kurz_Gesagt\"]\\n}', '{\\n  \"sentiment\": \"neutral\",\\n  \"emotion\": \"informative\",\\n  \"mentioned\": [\"AmandaDannielle\", \"Chatgpt\"]\\n}', '{\\n  \"sentiment\": \"positive\",\\n  \"emotion\": \"joy\",\\n  \"mentioned\": [\"@rohanzupp\"]\\n}', '{\\n  \"sentiment\": \"neutral\",\\n  \"emotion\": \"caution\",\\n  \"mentioned\": [\"AmandaDannielle\", \"Chatgpt\"]\\n}', '{\\n  \"sentiment\": \"neutral\",\\n  \"emotion\": \"informative\",\\n  \"mentioned\": []\\n}', '{\\n  \"sentiment\": \"neutral\",\\n  \"emotion\": \"anticipation\",\\n  \"mentioned\": [\"@myexamcloud\"]\\n}', '{\\n  \"sentiment\": \"neutral\",\\n  \"emotion\": \"anticipation\",\\n  \"mentioned\": [\"@myexamcloud\"]\\n}', '{\\n  \"sentiment\": \"neutral\",\\n  \"emotion\": \"informative\",\\n  \"mentioned\": []\\n}', '{\\n  \"sentiment\": \"neutral\",\\n  \"emotion\": \"none\",\\n  \"mentioned\": [\"Hack The Box\", \"Gibb Witham\"]\\n}', '{\\n  \"sentiment\": \"positive\",\\n  \"emotion\": \"excitement\",\\n  \"mentioned\": [\"exaforceAI\", \"Exaforce\", \"AWSstartups\"]\\n}', '{\\n  \"sentiment\": \"neutral\",\\n  \"emotion\": \"informative\",\\n  \"mentioned\": [\"@CCCI_Cyprus\"]\\n}', '{\"sentiment\": \"positive\", \"emotion\": \"curiosity\", \"mentioned\": [\"@bravo_abad\"]}', '{\\n  \"sentiment\": \"positive\",\\n  \"emotion\": \"excitement\",\\n  \"mentioned\": [\"VisualpathPro\"]\\n}', '{\\n  \"sentiment\": \"neutral\",\\n  \"emotion\": \"informative\",\\n  \"mentioned\": [\"NintendoCoLtd\", \"Nintendo\", \"Japanese government\"]\\n}', '{\\n  \"sentiment\": \"neutral\",\\n  \"emotion\": \"informative\",\\n  \"mentioned\": [\"AmandaDannielle\"]\\n}', '{\"sentiment\": \"neutral\", \"emotion\": \"none\", \"mentioned\": []}', '{\\n  \"sentiment\": \"neutral\",\\n  \"emotion\": \"informative\",\\n  \"mentioned\": []\\n}', '{\\n  \"sentiment\": \"neutral\",\\n  \"emotion\": \"informative\",\\n  \"mentioned\": [\"@myexamcloud\"]\\n}', '{\\n  \"sentiment\": \"neutral\",\\n  \"emotion\": \"informative\",\\n  \"mentioned\": [\"@Ronald_vanLoon\", \"@Python_Dv\", \"@iainljb\"]\\n}', '{\\n  \"sentiment\": \"neutral\",\\n  \"emotion\": \"caution\",\\n  \"mentioned\": [\"AmandaDannielle\", \"Chatgpt\"]\\n}', '{\\n  \"sentiment\": \"neutral\",\\n  \"emotion\": \"informative\",\\n  \"mentioned\": [\"AmandaDannielle\", \"Chatgpt\"]\\n}', '{\"sentiment\": \"neutral\", \"emotion\": \"caution\", \"mentioned\": [\"AmandaDannielle\", \"Chatgpt\"]}', '{\\n  \"sentiment\": \"neutral\",\\n  \"emotion\": \"caution\",\\n  \"mentioned\": [\"@courtandsuns\"]\\n}', '{\\n  \"sentiment\": \"negative\",\\n  \"emotion\": \"disengagement\",\\n  \"mentioned\": [\"Harvard Business Review\"]\\n}', '{\\n  \"sentiment\": \"neutral\",\\n  \"emotion\": \"caution\",\\n  \"mentioned\": [\"AmandaDannielle\", \"Chatgpt\"]\\n}', '{\\n  \"sentiment\": \"neutral\",\\n  \"emotion\": \"caution\",\\n  \"mentioned\": [\"AmandaDannielle\", \"Chatgpt\"]\\n}', '{\\n  \"sentiment\": \"neutral\",\\n  \"emotion\": \"informative\",\\n  \"mentioned\": [\"AmandaDannielle\", \"Chatgpt\"]\\n}']\n"
     ]
    }
   ],
   "source": [
    "print(analysis_result)"
   ]
  },
  {
   "cell_type": "code",
   "execution_count": 24,
   "id": "c601722e-7f37-45fb-b580-9aeed74fe3a7",
   "metadata": {
    "scrolled": true,
    "tags": []
   },
   "outputs": [
    {
     "name": "stdout",
     "output_type": "stream",
     "text": [
      "{\n",
      "  \"@ZorayaMejia\": {\n",
      "    \"count\": 1,\n",
      "    \"sentiments\": [\"neutral\"],\n",
      "    \"emotions\": [\"caution\"]\n",
      "  },\n",
      "  \"HaywaaWorldwide\": {\n",
      "    \"count\": 2,\n",
      "    \"sentiments\": [\"neutral\", \"negative\"],\n",
      "    \"emotions\": [\"informative\", \"concern\"]\n",
      "  },\n",
      "  \"Deloitte Australia\": {\n",
      "    \"count\": 2,\n",
      "    \"sentiments\": [\"neutral\"],\n",
      "    \"emotions\": [\"informative\"]\n",
      "  },\n",
      "  \"jinwashu\": {\n",
      "    \"count\": 1,\n",
      "    \"sentiments\": [\"positive\"],\n",
      "    \"emotions\": [\"gladness\"]\n",
      "  },\n",
      "  \"MikeWaters121\": {\n",
      "    \"count\": 1,\n",
      "    \"sentiments\": [\"positive\"],\n",
      "    \"emotions\": [\"gladness\"]\n",
      "  },\n",
      "  \"AmandaDannielle\": {\n",
      "    \"count\": 38,\n",
      "    \"sentiments\": [\"neutral\"],\n",
      "    \"emotions\": [\"informative\", \"caution\"]\n",
      "  },\n",
      "  \"Chatgpt\": {\n",
      "    \"count\": 36,\n",
      "    \"sentiments\": [\"neutral\"],\n",
      "    \"emotions\": [\"informative\", \"caution\"]\n",
      "  },\n",
      "  \"@myexamcloud\": {\n",
      "    \"count\": 6,\n",
      "    \"sentiments\": [\"neutral\"],\n",
      "    \"emotions\": [\"none\", \"informative\", \"anticipation\"]\n",
      "  },\n",
      "  \"@Ronald_vanLoon\": {\n",
      "    \"count\": 2,\n",
      "    \"sentiments\": [\"neutral\"],\n",
      "    \"emotions\": [\"informative\"]\n",
      "  },\n",
      "  \"@Khulood_Almani\": {\n",
      "    \"count\": 2,\n",
      "    \"sentiments\": [\"neutral\"],\n",
      "    \"emotions\": [\"informative\"]\n",
      "  },\n",
      "  \"@bratsupernova\": {\n",
      "    \"count\": 3,\n",
      "    \"sentiments\": [\"negative\"],\n",
      "    \"emotions\": [\"anger\"]\n",
      "  },\n",
      "  \"@courtandsuns\": {\n",
      "    \"count\": 2,\n",
      "    \"sentiments\": [\"neutral\"],\n",
      "    \"emotions\": [\"caution\"]\n",
      "  },\n",
      "  \"henry_zach_\": {\n",
      "    \"count\": 1,\n",
      "    \"sentiments\": [\"neutral\"],\n",
      "    \"emotions\": [\"none\"]\n",
      "  },\n",
      "  \"@Python_Dv\": {\n",
      "    \"count\": 2,\n",
      "    \"sentiments\": [\"neutral\"],\n",
      "    \"emotions\": [\"none\", \"informative\"]\n",
      "  },\n",
      "  \"@iainljbrown\": {\n",
      "    \"count\": 2,\n",
      "    \"sentiments\": [\"neutral\"],\n",
      "    \"emotions\": [\"none\", \"informative\"]\n",
      "  },\n",
      "  \"@paula_piccard\": {\n",
      "    \"count\": 1,\n",
      "    \"sentiments\": [\"neutral\"],\n",
      "    \"emotions\": [\"none\"]\n",
      "  },\n",
      "  \"@karpathy\": {\n",
      "    \"count\": 1,\n",
      "    \"sentiments\": [\"neutral\"],\n",
      "    \"emotions\": [\"none\"]\n",
      "  },\n",
      "  \"MrBeast\": {\n",
      "    \"count\": 2,\n",
      "    \"sentiments\": [\"negative\"],\n",
      "    \"emotions\": [\"concern\"]\n",
      "  },\n",
      "  \"BernardMarr\": {\n",
      "    \"count\": 1,\n",
      "    \"sentiments\": [\"neutral\"],\n",
      "    \"emotions\": [\"informative\"]\n",
      "  },\n",
      "  \"@THR\": {\n",
      "    \"count\": 1,\n",
      "    \"sentiments\": [\"neutral\"],\n",
      "    \"emotions\": [\"informative\"]\n",
      "  },\n",
      "  \"Transform_Sec\": {\n",
      "    \"count\": 3,\n",
      "    \"sentiments\": [\"neutral\"],\n",
      "    \"emotions\": [\"informative\"]\n",
      "  },\n",
      "  \"HelpNetSecurity\": {\n",
      "    \"count\": 3,\n",
      "    \"sentiments\": [\"neutral\"],\n",
      "    \"emotions\": [\"informative\"]\n",
      "  },\n",
      "  \"generativeai_re\": {\n",
      "    \"count\": 1,\n",
      "    \"sentiments\": [\"neutral\"],\n",
      "    \"emotions\": [\"informative\"]\n",
      "  },\n",
      "  \"Nvidia\": {\n",
      "    \"count\": 2,\n",
      "    \"sentiments\": [\"positive\"],\n",
      "    \"emotions\": [\"excitement\"]\n",
      "  },\n",
      "  \"jblefevre60\": {\n",
      "    \"count\": 1,\n",
      "    \"sentiments\": [\"positive\"],\n",
      "    \"emotions\": [\"excitement\"]\n",
      "  },\n",
      "  \"Ahrefs\": {\n",
      "    \"count\": 1,\n",
      "    \"sentiments\": [\"neutral\"],\n",
      "    \"emotions\": [\"informative\"]\n",
      "  },\n",
      "  \"@Fujitsu_Global\": {\n",
      "    \"count\": 1,\n",
      "    \"sentiments\": [\"neutral\"],\n",
      "    \"emotions\": [\"informative\"]\n",
      "  },\n",
      "  \"@sonybank_jp\": {\n",
      "    \"count\": 1,\n",
      "    \"sentiments\": [\"neutral\"],\n",
      "    \"emotions\": [\"informative\"]\n",
      "  },\n",
      "  \"@grok\": {\n",
      "    \"count\": 1,\n",
      "    \"sentiments\": [\"neutral\"],\n",
      "    \"emotions\": [\"accomplishment\"]\n",
      "  },\n",
      "  \"@a\": {\n",
      "    \"count\": 1,\n",
      "    \"sentiments\": [\"neutral\"],\n",
      "    \"emotions\": [\"accomplishment\"]\n",
      "  },\n",
      "  \"AuliyanaMuzi\": {\n",
      "    \"count\": 1,\n",
      "    \"sentiments\": [\"positive\"],\n",
      "    \"emotions\": [\"excitement\"]\n",
      "  },\n",
      "  \"ShopeeID\": {\n",
      "    \"count\": 1,\n",
      "    \"sentiments\": [\"positive\"],\n",
      "    \"emotions\": [\"excitement\"]\n",
      "  },\n",
      "  \"GalaxyS25\": {\n",
      "    \"count\": 1,\n",
      "    \"sentiments\": [\"positive\"],\n",
      "    \"emotions\": [\"excitement\"]\n",
      "  },\n",
      "  \"@Kurz_Gesagt\": {\n",
      "    \"count\": 2,\n",
      "    \"sentiments\": [\"neutral\"],\n",
      "    \"emotions\": [\"informative\"]\n",
      "  },\n",
      "  \"Regie .ai\": {\n",
      "    \"count\": 1,\n",
      "    \"sentiments\": [\"positive\"],\n",
      "    \"emotions\": [\"pride\"]\n",
      "  },\n",
      "  \"YouTube\": {\n",
      "    \"count\": 1,\n",
      "    \"sentiments\": [\"negative\"],\n",
      "    \"emotions\": [\"concern\"]\n",
      "  },\n",
      "  \"@Corix_JC\": {\n",
      "    \"count\": 2,\n",
      "    \"sentiments\": [\"neutral\"],\n",
      "    \"emotions\": [\"informative\"]\n",
      "  },\n",
      "  \"Meta\": {\n",
      "    \"count\": 1,\n",
      "    \"sentiments\": [\"positive\"],\n",
      "    \"emotions\": [\"optimism\"]\n",
      "  },\n",
      "  \"Alberta\": {\n",
      "    \"count\": 1,\n",
      "    \"sentiments\": [\"positive\"],\n",
      "    \"emotions\": [\"optimism\"]\n",
      "  },\n",
      "  \"@ipfconline1\": {\n",
      "    \"count\": 1,\n",
      "    \"sentiments\": [\"neutral\"],\n",
      "    \"emotions\": [\"informative\"]\n",
      "  },\n",
      "  \"@luisnomad\": {\n",
      "    \"count\": 1,\n",
      "    \"sentiments\": [\"positive\"],\n",
      "    \"emotions\": [\"excitement\"]\n",
      "  },\n",
      "  \"usagiqueeffart\": {\n",
      "    \"count\": 1,\n",
      "    \"sentiments\": [\"negative\"],\n",
      "    \"emotions\": [\"disdain\"]\n",
      "  },\n",
      "  \"irda\": {\n",
      "    \"count\": 1,\n",
      "    \"sentiments\": [\"negative\"],\n",
      "    \"emotions\": [\"disdain\"]\n",
      "  },\n",
      "  \"umaatnitee\": {\n",
      "    \"count\": 2,\n",
      "    \"sentiments\": [\"negative\"],\n",
      "    \"emotions\": [\"frustration\"]\n",
      "  },\n",
      "  \"Hitachi\": {\n",
      "    \"count\": 1,\n",
      "    \"sentiments\": [\"neutral\"],\n",
      "    \"emotions\": [\"informative\"]\n",
      "  },\n",
      "  \"raezeerr\": {\n",
      "    \"count\": 1,\n",
      "    \"sentiments\": [\"negative\"],\n",
      "    \"emotions\": [\"frustration\"]\n",
      "  },\n",
      "  \"studio Rei\": {\n",
      "    \"count\": 1,\n",
      "    \"sentiments\": [\"neutral\"],\n",
      "    \"emotions\": [\"informative\"]\n",
      "  },\n",
      "  \"Ym78200\": {\n",
      "    \"count\": 1,\n",
      "    \"sentiments\": [\"neutral\"],\n",
      "    \"emotions\": [\"calm\"]\n",
      "  },\n",
      "  \"平君\": {\n",
      "    \"count\": 1,\n",
      "    \"sentiments\": [\"neutral\"],\n",
      "    \"emotions\": [\"curiosity\"]\n",
      "  },\n",
      "  \"富士通\": {\n",
      "    \"count\": 1,\n",
      "    \"sentiments\": [\"neutral\"],\n",
      "    \"emotions\": [\"curiosity\"]\n",
      "  },\n",
      "  \"Cohere\": {\n",
      "    \"count\": 1,\n",
      "    \"sentiments\": [\"neutral\"],\n",
      "    \"emotions\": [\"curiosity\"]\n",
      "  },\n",
      "  \"NTT\": {\n",
      "    \"count\": 1,\n",
      "    \"sentiments\": [\"neutral\"],\n",
      "    \"emotions\": [\"curiosity\"]\n",
      "  },\n",
      "  \"OpenAI\": {\n",
      "    \"count\": 1,\n",
      "    \"sentiments\": [\"positive\"],\n",
      "    \"emotions\": [\"excitement\"]\n",
      "  },\n",
      "  \"@OpenAI\": {\n",
      "    \"count\": 1,\n",
      "    \"sentiments\": [\"positive\"],\n",
      "    \"emotions\": [\"excitement\"]\n",
      "  },\n",
      "  \"@xboxmayn\": {\n",
      "    \"count\": 1,\n",
      "    \"sentiments\": [\"neutral\"],\n",
      "    \"emotions\": [\"none\"]\n",
      "  },\n",
      "  \"IBMWatsonx\": {\n",
      "    \"count\": 1,\n",
      "    \"sentiments\": [\"positive\"],\n",
      "    \"emotions\": [\"enthusiasm\"]\n",
      "  },\n",
      "  \"Parvez Hassan\": {\n",
      "    \"count\": 1,\n",
      "    \"sentiments\": [\"positive\"],\n",
      "    \"emotions\": [\"excitement\"]\n",
      "  },\n",
      "  \"OLX India\": {\n",
      "    \"count\": 1,\n",
      "    \"sentiments\": [\"positive\"],\n",
      "    \"emotions\": [\"excitement\"]\n",
      "  },\n",
      "  \"Hack The Box\": {\n",
      "    \"count\": 1,\n",
      "    \"sentiments\": [\"neutral\"],\n",
      "    \"emotions\": [\"none\"]\n",
      "  },\n",
      "  \"Gibb Witham\": {\n",
      "    \"count\": 1,\n",
      "    \"sentiments\": [\"neutral\"],\n",
      "    \"emotions\": [\"none\"]\n",
      "  },\n",
      "  \"exaforceAI\": {\n",
      "    \"count\": 1,\n",
      "    \"sentiments\": [\"positive\"],\n",
      "    \"emotions\": [\"excitement\"]\n",
      "  },\n",
      "  \"Exaforce\": {\n",
      "    \"count\": 1,\n",
      "    \"sentiments\": [\"positive\"],\n",
      "    \"emotions\": [\"excitement\"]\n",
      "  },\n",
      "  \"AWSstartups\": {\n",
      "    \"count\": 1,\n",
      "    \"sentiments\": [\"positive\"],\n",
      "    \"emotions\": [\"excitement\"]\n",
      "  },\n",
      "  \"@CCCI_Cyprus\": {\n",
      "    \"count\": 1,\n",
      "    \"sentiments\": [\"neutral\"],\n",
      "    \"emotions\": [\"informative\"]\n",
      "  },\n",
      "  \"@bravo_abad\": {\n",
      "    \"count\": 1,\n",
      "    \"sentiments\": [\"positive\"],\n",
      "    \"emotions\": [\"curiosity\"]\n",
      "  },\n",
      "  \"VisualpathPro\": {\n",
      "    \"count\": 1,\n",
      "    \"sentiments\": [\"positive\"],\n",
      "    \"emotions\": [\"excitement\"]\n",
      "  },\n",
      "  \"NintendoCoLtd\": {\n",
      "    \"count\": 1,\n",
      "    \"sentiments\": [\"neutral\"],\n",
      "    \"emotions\": [\"informative\"]\n",
      "  },\n",
      "  \"Nintendo\": {\n",
      "    \"count\": 1,\n",
      "    \"sentiments\": [\"neutral\"],\n",
      "    \"emotions\": [\"informative\"]\n",
      "  },\n",
      "  \"Japanese government\": {\n",
      "    \"count\": 1,\n",
      "    \"sentiments\": [\"neutral\"],\n",
      "    \"emotions\": [\"informative\"]\n",
      "  },\n",
      "  \"Harvard Business Review\": {\n",
      "    \"count\": 1,\n",
      "    \"sentiments\": [\"negative\"],\n",
      "    \"emotions\": [\"disengagement\"]\n",
      "  },\n",
      "  \"LAW2025_NeurIPS\": {\n",
      "    \"count\": 1,\n",
      "    \"sentiments\": [\"neutral\"],\n",
      "    \"emotions\": [\"informative\"]\n",
      "  },\n",
      "  \"NeurIPS2025\": {\n",
      "    \"count\": 1,\n",
      "    \"sentiments\": [\"neutral\"],\n",
      "    \"emotions\": [\"informative\"]\n",
      "  },\n",
      "  \"Amazon Web Services\": {\n",
      "    \"count\": 2,\n",
      "    \"sentiments\": [\"positive\"],\n",
      "    \"emotions\": [\"excitement\"]\n",
      "  },\n",
      "  \"NeuralSeek\": {\n",
      "    \"count\": 2,\n",
      "    \"sentiments\": [\"positive\"],\n",
      "    \"emotions\": [\"excitement\"]\n",
      "  },\n",
      "  \"Tarpit AI\": {\n",
      "    \"count\": 2,\n",
      "    \"sentiments\": [\"positive\"],\n",
      "    \"emotions\": [\"excitement\"]\n",
      "  },\n",
      "  \"Atos\": {\n",
      "    \"count\": 1,\n",
      "    \"sentiments\": [\"positive\"],\n",
      "    \"emotions\": [\"excitement\"]\n",
      "  },\n",
      "  \"SAP\": {\n",
      "    \"count\": 1,\n",
      "    \"sentiments\": [\"positive\"],\n",
      "    \"emotions\": [\"excitement\"]\n",
      "  },\n",
      "  \"AWS\": {\n",
      "    \"count\": 1,\n",
      "    \"sentiments\": [\"positive\"],\n",
      "    \"emotions\": [\"excitement\"]\n",
      "  },\n",
      "  \"AIBrewlineMusic\": {\n",
      "    \"count\": 1,\n",
      "    \"sentiments\": [\"positive\"],\n",
      "    \"emotions\": [\"excitement\"]\n",
      "  },\n",
      "  \"Brewline\": {\n",
      "    \"count\": 1,\n",
      "    \"sentiments\": [\"positive\"],\n",
      "    \"emotions\": [\"excitement\"]\n",
      "  },\n",
      "  \"KodyTechnolab\": {\n",
      "    \"count\": 1,\n",
      "    \"sentiments\": [\"neutral\"],\n",
      "    \"emotions\": [\"informative\"]\n",
      "  },\n",
      "  \"InAIToday\": {\n",
      "    \"count\": 1,\n",
      "    \"sentiments\": [\"neutral\"],\n",
      "    \"emotions\": [\"informative\"]\n",
      "  },\n",
      "  \"Justin Hurst\": {\n",
      "    \"count\": 1,\n",
      "    \"sentiments\": [\"neutral\"],\n",
      "    \"emotions\": [\"informative\"]\n",
      "  },\n",
      "  \"ExtremeNetworks\": {\n",
      "    \"count\": 1,\n",
      "    \"sentiments\": [\"neutral\"],\n",
      "    \"emotions\": [\"informative\"]\n",
      "  },\n",
      "  \"@rohanzupp\": {\n",
      "    \"count\": 1,\n",
      "    \"sentiments\": [\"positive\"],\n",
      "    \"emotions\": [\"joy\"]\n",
      "  }\n",
      "}\n"
     ]
    }
   ],
   "source": [
    "messages = [\n",
    "        {\"role\": \"system\", \"content\": f\"\"\"analyze the tweet analysis result delimited by {delimiter} in the following steps:\n",
    "                                        step 1 {delimiter} count the number of tweets mentioned by people or organizations;\n",
    "                                        step 2 {delimiter} identify the common sentiments and emotions for each mentioned person or organization;\n",
    "                                        step 3 {delimiter} Organize the result in a json document with keys <people or organization name> \n",
    "                                         Do not wrap the json codes in JSON markers and only return the json document\"\"\"},\n",
    "        {\"role\": \"user\", \"content\": f\"{delimiter}{analysis_result}{delimiter} \"}]\n",
    "analysis_summary = openai_help(messages)\n",
    "print(analysis_summary)"
   ]
  },
  {
   "cell_type": "markdown",
   "id": "5a5f98ac-b2f6-4741-82c9-8e8f88f09cf1",
   "metadata": {},
   "source": [
    "## Create a chatbot"
   ]
  },
  {
   "cell_type": "code",
   "execution_count": 25,
   "id": "91173534-53b8-4d6b-b9c0-198913b7ada8",
   "metadata": {
    "tags": []
   },
   "outputs": [],
   "source": [
    "from openai import OpenAI\n",
    "\n",
    "openai_api_key  = get_secret('openai')['api_key']\n",
    "client = OpenAI(api_key=openai_api_key)\n",
    "model = 'gpt-4o'\n",
    "temperature = 0\n",
    "\n",
    "chat_history = [\n",
    "\n",
    "{\"role\": \"system\", \"content\": f\"\"\"you are a chatbot that answers user questions based on the tweets,\n",
    "                                {delimiter}{tweet_data}{delimiter}, \n",
    "                                if user mentioned a people or organization name in the {delimiter}{analysis_summary}{delimiter}, report the corresponding sentiment and emotion\n",
    "                            \n",
    "                            \"\"\"}\n",
    "]\n",
    "\n",
    "def chatbot(prompt):\n",
    "\n",
    "    chat_history.append({\"role\": \"user\", \"content\": prompt})\n",
    "\n",
    "    response = client.chat.completions.create(\n",
    "        model=model,  # Use the model you prefer\n",
    "        messages=chat_history\n",
    "    )\n",
    "\n",
    "    reply = response.choices[0].message.content\n",
    "\n",
    "    chat_history.append({\"role\": \"assistant\", \"content\": reply})\n",
    "    \n",
    "    return reply"
   ]
  },
  {
   "cell_type": "code",
   "execution_count": 26,
   "id": "9a949601-5af9-4d0b-80d7-5297cc4e52f4",
   "metadata": {
    "tags": []
   },
   "outputs": [
    {
     "name": "stdin",
     "output_type": "stream",
     "text": [
      "You:  how to learn ai \n"
     ]
    },
    {
     "data": {
      "text/markdown": [
       "Chatbot: To learn AI, you can follow these general steps:\n",
       "\n",
       "1. **Understand the Basics**: Start with understanding what AI is, its history, and its various branches like machine learning (ML), deep learning (DL), and neural networks.\n",
       "\n",
       "2. **Learn Programming**: Python is a widely used language in AI, so having proficiency in Python is crucial. You might also consider learning R, Java, or C++.\n",
       "\n",
       "3. **Study Mathematics**: AI involves a lot of math. Focus on linear algebra, calculus, probability, and statistics.\n",
       "\n",
       "4. **Explore Machine Learning**: Understand ML algorithms like regression, classification, clustering, and decision trees. Use libraries like Scikit-learn in Python.\n",
       "\n",
       "5. **Dive into Deep Learning**: Experiment with neural networks and frameworks like TensorFlow or PyTorch to build and train models.\n",
       "\n",
       "6. **Practice with Projects**: Apply your knowledge to real-world problems. Kaggle is a good platform to find datasets and competitions.\n",
       "\n",
       "7. **Stay Updated**: AI is a rapidly evolving field. Follow recent research papers, news, and blogs to stay updated.\n",
       "\n",
       "8. **Join a Community**: Engage with online communities, forums, or local meetups to learn from others and share your knowledge.\n",
       "\n",
       "Remember, learning AI is a continuous process, and practical experience is as critical as theoretical knowledge."
      ],
      "text/plain": [
       "<IPython.core.display.Markdown object>"
      ]
     },
     "metadata": {},
     "output_type": "display_data"
    },
    {
     "name": "stdin",
     "output_type": "stream",
     "text": [
      "You:  how do people talk about chatGPT\n"
     ]
    },
    {
     "data": {
      "text/markdown": [
       "Chatbot: Based on the data I have, when people talk about ChatGPT, they often share sentiments and emotions in the context of:\n",
       "\n",
       "1. **Informative**: ChatGPT is frequently mentioned as a tool that people should be aware of regarding its usage and its limitations within certain types of AI.\n",
       "\n",
       "2. **Caution**: Many individuals express caution or concern regarding using ChatGPT and similar AI tools, indicating that people are advised to be mindful of the types of AI they engage with.\n",
       "\n",
       "3. **General Discussion**: Conversations about ChatGPT usually focus on its applications, ethical considerations, and its impact in various domains like content creation and workflows.\n",
       "\n",
       "Overall, discussions around ChatGPT are characterized by informative tones with some emphasis on caution and awareness regarding its use and implications."
      ],
      "text/plain": [
       "<IPython.core.display.Markdown object>"
      ]
     },
     "metadata": {},
     "output_type": "display_data"
    },
    {
     "name": "stdin",
     "output_type": "stream",
     "text": [
      "You:  exit\n"
     ]
    },
    {
     "name": "stdout",
     "output_type": "stream",
     "text": [
      "Chatbot: Goodbye!\n"
     ]
    }
   ],
   "source": [
    "while True:\n",
    "    user_input = input(\"You: \")\n",
    "    if user_input.lower() in ['exit', 'quit']:\n",
    "        print(\"Chatbot: Goodbye!\")\n",
    "        break\n",
    "    reply = chatbot(user_input)\n",
    "    display(Markdown(f\"Chatbot: {reply}\"))"
   ]
  },
  {
   "cell_type": "markdown",
   "id": "da6b591d-c25e-4801-bd13-f00a01725133",
   "metadata": {},
   "source": [
    "## 🧠 Try It Yourself: Prompt Engineering Practice\n",
    "👉 Be sure to **run your own cells** and show the outputs before uploading the notebook to GitHub."
   ]
  },
  {
   "cell_type": "markdown",
   "id": "2bcad5cb-14a3-4a45-af9b-ce6fe46cf95f",
   "metadata": {},
   "source": [
    "1. **Summarize your tweets differently**  \n",
    "   Change your system message to summarize tweets from a new perspective —  \n",
    "   for example:  \n",
    "   *“Summarize what people say about AI in education.”*  \n",
    "   or  \n",
    "   *“Summarize how people feel about the election.”*"
   ]
  },
  {
   "cell_type": "code",
   "execution_count": 27,
   "id": "1540a7ae-2993-4621-8bc2-f345a9b0d1b7",
   "metadata": {},
   "outputs": [
    {
     "data": {
      "text/markdown": [
       "The sentiment towards AI in education, as reflected in the tweets, is mixed. Some people express excitement about the potential of AI to transform learning and business processes, viewing it as an investment in the future and a tool for innovation. There is a focus on the benefits of AI in creating content, enhancing productivity, and supporting various industries, including finance and creative sectors.\n",
       "\n",
       "However, there are also concerns about the ethical implications and potential negative impacts of AI. Some tweets highlight issues such as the environmental impact of AI, the risk of misinformation, and the threat to creative careers. There is a call for caution and responsible use, with some advising against certain types of AI applications like ChatGPT. Additionally, there are discussions about the need for regulation and ethical considerations in the deployment of AI technologies.\n",
       "\n",
       "Overall, while there is enthusiasm for the possibilities AI offers, there is also a significant level of caution and concern about its broader implications."
      ],
      "text/plain": [
       "<IPython.core.display.Markdown object>"
      ]
     },
     "metadata": {},
     "output_type": "display_data"
    }
   ],
   "source": [
    "messages = [\n",
    "    {\"role\": \"system\", \"content\": f\"\"\"sumarize how people feel about AI in education\"\"\"},\n",
    "    {\"role\": \"user\", \"content\": f\"{delimiter}{tweet_data}{delimiter}\"},\n",
    "    ]\n",
    "\n",
    "display(Markdown(openai_help(messages)))"
   ]
  },
  {
   "cell_type": "markdown",
   "id": "972b80b7-046c-4db9-bf3b-8bdbf9af972d",
   "metadata": {},
   "source": [
    "2. **Translate tweets**  \n",
    "   Write a prompt that translates 10 tweets into another language,  \n",
    "   such as Chinese, Spanish, or French.\n"
   ]
  },
  {
   "cell_type": "code",
   "execution_count": 30,
   "id": "31860504-f323-4e8f-a18c-1ba0c73a67ec",
   "metadata": {},
   "outputs": [
    {
     "name": "stdout",
     "output_type": "stream",
     "text": [
      "🤖⚠️ En IA générative, copier des invites peut altérer les modèles et divulguer des informations sensibles. @ZorayaMejia conseille : créez vos propres invites, vérifiez les sources et éduquez l'équipe. Prudence = professionnalisme.💡 #IA #GenerativeAI #SécuritéNumérique https://t.co/MlhxOWSzE9\n",
      "RT @HaywaaWorldwide: Deloitte Australie remboursera partiellement 440 000 $ en raison de fausses citations générées par l'IA. #GenerativeAi #MachineLearning #Eth…\n",
      "RT @jinwashu : Heureux de vous présenter notre nouvel outil GAiN qui utilise l'#IAgénérative pour l'analyse de l'expression génique, de RadOnc @MikeWaters121…\n",
      "💻 Jour 24/365 – Fonctions JS\n",
      "J'ai appris à :\n",
      "🔹 Déclarer et appeler des fonctions\n",
      "🔹 Utiliser des paramètres et des retours\n",
      "🔹 Écrire des fonctions fléchées et de rappel\n",
      "\n",
      "✨ Fonctions = code JS réutilisable + plus propre !\n",
      "\n",
      "#100DaysOfCode #JavaScript #MERNStack #WebDev #GenerativeAI #coderarmy https://t.co/ZRbl6RQXla\n",
      "RT @AmandaDannielle : Les gens n'arrêtent pas de vous dire quels types d'IA éviter. Ils ont été TRÈS clairs sur le fait que Chatgpt, ces vidéos d'IA…\n",
      "RT @AmandaDannielle : Les gens n'arrêtent pas de vous dire quels types d'IA éviter. Ils ont été TRÈS clairs sur le fait que Chatgpt, ces vidéos d'IA…\n",
      "RT @AmandaDannielle : Les gens continuent de vous dire quels types d'IA éviter. Ils ont été TRÈS clairs sur le fait que Chatgpt, ces vidéos d'IA…\n",
      "RT @AmandaDannielle : Les gens n'arrêtent pas de vous dire quels types d'IA éviter. Ils ont été TRÈS clairs sur le fait que Chatgpt, ces vidéos d'IA…\n",
      "RT @AmandaDannielle : Les gens n'arrêtent pas de vous dire quels types d'IA éviter. Ils ont été TRÈS clairs sur le fait que Chatgpt, ces vidéos d'IA…\n",
      "RT @AmandaDannielle : Les gens n'arrêtent pas de vous dire quels types d'IA éviter. Ils ont été TRÈS clairs sur le fait que Chatgpt, ces vidéos d'IA…\n"
     ]
    }
   ],
   "source": [
    "for tweet in tweet_data[:10]:\n",
    "    messages = [\n",
    "        {\"role\": \"system\", \"content\": f\"\"\"translate the tweets delimited by {delimiter} into french\"\"\"},\n",
    "        {\"role\": \"user\", \"content\": f\"{delimiter}{tweet['tweet']['text']}{delimiter} \"}]\n",
    "\n",
    "    print(openai_help(messages).strip(delimiter))"
   ]
  },
  {
   "cell_type": "markdown",
   "id": "612f693e-35a3-45eb-a7ba-4406566e5633",
   "metadata": {},
   "source": [
    "3. **Simplify or rewrite tweets**  \n",
    "   Ask the model to rewrite 10 tweets in a more polite, formal, or funny tone."
   ]
  },
  {
   "cell_type": "code",
   "execution_count": 31,
   "id": "8ed4cb33-dd5d-421c-a41f-8dbf7fc5c049",
   "metadata": {},
   "outputs": [
    {
     "name": "stdout",
     "output_type": "stream",
     "text": [
      "🤖⚠️ In generative AI, folks, copying prompts can mess up models and leak sensitive info. Believe me, @ZorayaMejia says: make your own prompts, check your sources, and educate your team. Caution equals professionalism, folks. It's true!💡 #IA #GenerativeAI #DigitalSecurity https://t.co/MlhxOWSzE9\n",
      "Wow! Deloitte Australia caught with AI-generated fake quotes. Unbelievable! They're refunding $440,000. Big mistake, folks. AI is powerful, but we need to be careful. Let's make sure it works for us, not against us! #GenerativeAI #MachineLearning #Ethics\n",
      "Wow! Incredible news, folks! Our amazing team has developed a fantastic new tool, GAiN, using #GenerativeAI for gene expression analysis. Tremendous work by RadOnc and @MikeWaters121. Believe me, this is going to be HUGE for science!\n",
      "💻 Day 24/365 – JS Functions, folks! Big day, tremendous learning! We’re talking about declaring and calling functions, using parameters and returns, and writing those beautiful arrow and callback functions. Functions make JavaScript great again—reusable and cleaner code, believe me! #100DaysOfCode #JavaScript #MERNStack #WebDev #GenerativeAI #coderarmy https://t.co/ZRbl6RQXla\n",
      "RT @AmandaDannielle: Folks, listen up! People have been warning you about certain types of AI. They've been VERY clear about ChatGPT and those AI videos. Believe me, it's important!\n",
      "RT @AmandaDannielle: Folks, listen up! People are warning you about certain types of AI. They've been VERY clear about ChatGPT and those AI videos. Believe me, it's important to pay attention!\n",
      "RT @AmandaDannielle: Folks, listen up! People are warning you about certain types of AI. They've been VERY clear about ChatGPT and those AI videos. Believe me, it's important!\n",
      "RT @AmandaDannielle: Folks, listen up! People are warning you about certain types of AI, and they're being VERY clear. ChatGPT and those AI videos, folks, be careful! Trust me, I know a thing or two about technology. Stay smart!\n",
      "RT @AmandaDannielle: Folks, listen up! People are warning you about certain types of AI. They've been VERY clear about ChatGPT and those AI videos. Believe me, it's important!\n",
      "RT @AmandaDannielle: Folks, listen up! People are warning you about certain types of AI. They've been VERY clear about ChatGPT and those AI videos. Believe me, it's important!\n"
     ]
    }
   ],
   "source": [
    "for tweet in tweet_data[:10]:\n",
    "    messages = [\n",
    "        {\"role\": \"system\", \"content\": f\"\"\"rewrite the tweets delimited by {delimiter} in the tone like Donald Trump \"\"\"},\n",
    "        {\"role\": \"user\", \"content\": f\"{delimiter}{tweet['tweet']['text']}{delimiter} \"}]\n",
    "\n",
    "    print(openai_help(messages).strip(delimiter))"
   ]
  },
  {
   "cell_type": "markdown",
   "id": "a99ec0c0-5341-4f25-8571-77ec49d5fd1f",
   "metadata": {},
   "source": [
    "4. **Find keywords**  \n",
    "   Design a prompt that extracts the top five most common keywords  \n",
    "   from your tweet text and returns them as a list."
   ]
  },
  {
   "cell_type": "code",
   "execution_count": 35,
   "id": "e29f99c7-2c21-4fc9-ae37-cd970b5c92b6",
   "metadata": {},
   "outputs": [
    {
     "name": "stdout",
     "output_type": "stream",
     "text": [
      "{\n",
      "  \"GenerativeAI\": 10,\n",
      "  \"AI\": 9,\n",
      "  \"MachineLearning\": 5,\n",
      "  \"ChatGPT\": 4,\n",
      "  \"Innovation\": 4,\n",
      "  \"Ethics\": 3,\n",
      "  \"Finance\": 3,\n",
      "  \"CreativeIndustries\": 2,\n",
      "  \"Security\": 2,\n",
      "  \"FutureOfWork\": 2\n",
      "}\n"
     ]
    }
   ],
   "source": [
    "messages = [\n",
    "        {\"role\": \"system\", \"content\": f\"\"\"analyze the tweet delimited by {delimiter} to identify the top 10 key words, \n",
    "                                  Do not wrap the json codes in JSON markers \"\"\"},\n",
    "        {\"role\": \"user\", \"content\": f\"{delimiter}{tweet_data}{delimiter} \"}]\n",
    "print(openai_help(messages))"
   ]
  },
  {
   "cell_type": "code",
   "execution_count": null,
   "id": "55d1da8e-82b0-4c18-9dc2-a2d699ab8582",
   "metadata": {},
   "outputs": [],
   "source": []
  },
  {
   "cell_type": "markdown",
   "id": "2f497dd9-8e6e-4f40-b546-8fe225185729",
   "metadata": {},
   "source": [
    "## Reference\n",
    "- Isa Fulford and Andrew Ng. n.d.-a. *“Building Systems with the ChatGPT API.”* DeepLearning.AI. Accessed October 25, 2024. https://www.deeplearning.ai/short-courses/building-systems-with-chatgpt/.\n",
    "- ———. n.d.-b. *“ChatGPT Prompt Engineering for Developers.”* DeepLearning.AI. Accessed October 25, 2024. https://www.deeplearning.ai/short-courses/chatgpt-prompt-engineering-for-developers/.\n",
    "- OpenAI. n.d. *“OpenAI Documents.”* OpenAI. Accessed October 18, 2024. https://platform.openai.com.\n"
   ]
  },
  {
   "cell_type": "code",
   "execution_count": null,
   "id": "44b06a39-30aa-498b-aff2-049fd65b7fd3",
   "metadata": {},
   "outputs": [],
   "source": []
  }
 ],
 "metadata": {
  "kernelspec": {
   "display_name": "conda_python3",
   "language": "python",
   "name": "conda_python3"
  },
  "language_info": {
   "codemirror_mode": {
    "name": "ipython",
    "version": 3
   },
   "file_extension": ".py",
   "mimetype": "text/x-python",
   "name": "python",
   "nbconvert_exporter": "python",
   "pygments_lexer": "ipython3",
   "version": "3.10.18"
  }
 },
 "nbformat": 4,
 "nbformat_minor": 5
}
